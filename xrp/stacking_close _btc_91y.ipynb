{
	"cells": [
		{
			"cell_type": "markdown",
			"metadata": {
				"id": "ISey18nu7AFN"
			},
			"source": [
				"# 1. Quá trình dự báo trên mô hình LR"
			]
		},
		{
			"cell_type": "markdown",
			"metadata": {
				"id": "eRgr332E7G1j"
			},
			"source": [
				"## Thêm thư viện"
			]
		},
		{
			"cell_type": "code",
			"execution_count": 1,
			"metadata": {
				"executionInfo": {
					"elapsed": 11534,
					"status": "ok",
					"timestamp": 1661101625351,
					"user": {
						"displayName": "Uyên Đặng Vũ Phương",
						"userId": "04847217558347543723"
					},
					"user_tz": -420
				},
				"id": "6A7joJiu64Od"
			},
			"outputs": [],
			"source": [
				"%matplotlib inline\n",
				"import numpy as np\n",
				"import pandas as pd\n",
				"import warnings\n",
				"warnings.filterwarnings('ignore')\n",
				"import matplotlib.pyplot as plt\n",
				"import matplotlib.ticker as ticker\n",
				"\n",
				"from statsmodels.tsa.stattools import adfuller\n",
				"from sklearn.model_selection import GridSearchCV\n",
				"\n",
				"from sklearn.metrics import mean_squared_error\n",
				"# from sklearn.utils import column_or_1d\n",
				"from sklearn.preprocessing import MinMaxScaler\n",
				"from sklearn.metrics import mean_absolute_error, mean_squared_error, mean_absolute_percentage_error\n",
				"from sklearn.model_selection import train_test_split\n",
				"from keras.models import Sequential\n",
				"from keras.layers import Dense\n",
				"from keras.layers import LSTM\n",
				"from keras.models import load_model"
			]
		},
		{
			"cell_type": "markdown",
			"metadata": {
				"id": "5_IIUmrUIBo1"
			},
			"source": []
		},
		{
			"cell_type": "code",
			"execution_count": 2,
			"metadata": {
				"executionInfo": {
					"elapsed": 515,
					"status": "ok",
					"timestamp": 1661101625862,
					"user": {
						"displayName": "Uyên Đặng Vũ Phương",
						"userId": "04847217558347543723"
					},
					"user_tz": -420
				},
				"id": "p3kiMZqrvqHS"
			},
			"outputs": [],
			"source": [
				"from sklearn.linear_model import LinearRegression\n",
				"from sklearn.ensemble import StackingRegressor"
			]
		},
		{
			"cell_type": "code",
			"execution_count": 3,
			"metadata": {},
			"outputs": [
				{
					"name": "stdout",
					"output_type": "stream",
					"text": [
						"      Unnamed: 0 formatted_date      high       low      open     close  \\\n",
						"0              0     2019-01-01  0.364771  0.350402  0.365675  0.364771   \n",
						"1              1     2019-01-02  0.378021  0.359574  0.374505  0.375243   \n",
						"2              2     2019-01-03  0.374505  0.357675  0.359753  0.360224   \n",
						"3              3     2019-01-04  0.364642  0.352785  0.356347  0.356747   \n",
						"4              4     2019-01-05  0.361069  0.353987  0.354750  0.355275   \n",
						"...          ...            ...       ...       ...       ...       ...   \n",
						"1515        1515     2023-02-24  0.390547  0.374133  0.378507  0.378477   \n",
						"1516        1516     2023-02-25  0.379419  0.372250  0.378085  0.378085   \n",
						"1517        1517     2023-02-26  0.380606  0.375420  0.378005  0.378041   \n",
						"1518        1518     2023-02-27  0.380042  0.372158  0.379121  0.379115   \n",
						"1519        1519     2023-02-28  0.382433  0.373027  0.377133  0.377150   \n",
						"\n",
						"          volume  adjclose  \n",
						"0      449347622  0.364771  \n",
						"1      543216669  0.375243  \n",
						"2      438873803  0.360224  \n",
						"3      450633876  0.356747  \n",
						"4      452090239  0.355275  \n",
						"...          ...       ...  \n",
						"1515   953355531  0.378477  \n",
						"1516   552223148  0.378085  \n",
						"1517   441815645  0.378041  \n",
						"1518  1049508853  0.379115  \n",
						"1519  1000693267  0.377150  \n",
						"\n",
						"[1520 rows x 8 columns]\n"
					]
				}
			],
			"source": [
				"# Load data\n",
				"df = pd.read_csv('xrp.csv')\n",
				"print(df)\n",
				"name_col='close'"
			]
		},
		{
			"cell_type": "code",
			"execution_count": 4,
			"metadata": {},
			"outputs": [],
			"source": [
				"# Process data\n",
				"df['H-L'] = df['high'] - df['low']\n",
				"# df['O-C'] = df['open'] - df['close']\n",
				"ma_1 = 7\n",
				"ma_2 = 14\n",
				"ma_3 = 21\n",
				"df[f'SMA_{ma_1}'] = df[name_col].rolling(window=ma_1).mean()\n",
				"df[f'SMA_{ma_2}'] = df[name_col].rolling(window=ma_2).mean()\n",
				"df[f'SMA_{ma_3}'] = df[name_col].rolling(window=ma_3).mean()\n",
				"\n",
				"df[f'SD_{ma_1}'] = df[name_col].rolling(window=ma_1).std()\n",
				"df[f'SD_{ma_3}'] = df[name_col].rolling(window=ma_3).std()\n",
				"df.dropna(inplace=True)\n",
				"\n",
				"# df.to_csv(f\"../../predict/bitcoin_df_{name_col}.csv\")\n",
				"df.set_index('formatted_date')\n",
				"df2=df.copy()"
			]
		},
		{
			"cell_type": "markdown",
			"metadata": {
				"id": "K29p7jG8FXlU"
			},
			"source": [
				"## Nạp dữ liệu từ file csv"
			]
		},
		{
			"cell_type": "code",
			"execution_count": 5,
			"metadata": {
				"colab": {
					"base_uri": "https://localhost:8080/",
					"height": 388
				},
				"executionInfo": {
					"elapsed": 1555,
					"status": "ok",
					"timestamp": 1661101627415,
					"user": {
						"displayName": "Uyên Đặng Vũ Phương",
						"userId": "04847217558347543723"
					},
					"user_tz": -420
				},
				"id": "-Au5akCR1sHz",
				"outputId": "f61c436e-1c95-45a8-c3e4-4cf7b62e74dd"
			},
			"outputs": [
				{
					"name": "stdout",
					"output_type": "stream",
					"text": [
						"          high       low      open       H-L     SMA_7    SMA_14    SMA_21  \\\n",
						"1478  0.395209  0.371321  0.379419  0.023888  0.385009  0.367294  0.359469   \n",
						"1325  0.380862  0.370915  0.370969  0.009947  0.376870  0.376232  0.376064   \n",
						"349   0.218908  0.206862  0.207189  0.012046  0.218593  0.221367  0.222502   \n",
						"564   0.201602  0.193937  0.199404  0.007665  0.197529  0.195752  0.189552   \n",
						"680   0.259724  0.252842  0.256258  0.006882  0.252666  0.245886  0.248152   \n",
						"...        ...       ...       ...       ...       ...       ...       ...   \n",
						"186   0.408374  0.378463  0.389503  0.029911  0.395535  0.422018  0.428438   \n",
						"674   0.247046  0.237558  0.245770  0.009488  0.239604  0.245107  0.245383   \n",
						"1295  0.375989  0.352916  0.373257  0.023073  0.346452  0.338413  0.333494   \n",
						"749   0.326188  0.283997  0.294219  0.042191  0.288297  0.296035  0.272597   \n",
						"89    0.311171  0.308150  0.309195  0.003021  0.308374  0.311468  0.312477   \n",
						"\n",
						"          SD_7     SD_21 formatted_date  \n",
						"1478  0.006409  0.020129     2023-01-18  \n",
						"1325  0.003038  0.005061     2022-08-18  \n",
						"349   0.005502  0.005256     2019-12-16  \n",
						"564   0.002514  0.010887     2020-07-18  \n",
						"680   0.004284  0.007397     2020-11-11  \n",
						"...        ...       ...            ...  \n",
						"186   0.010668  0.029918     2019-07-06  \n",
						"674   0.003139  0.006598     2020-11-05  \n",
						"1295  0.018110  0.016261     2022-07-19  \n",
						"749   0.010372  0.038621     2021-01-19  \n",
						"89    0.002977  0.004543     2019-03-31  \n",
						"\n",
						"[1350 rows x 10 columns]\n"
					]
				}
			],
			"source": [
				"\n",
				"split_x = df2[['high','low','open','H-L', f'SMA_{ma_1}', f'SMA_{ma_2}', f'SMA_{ma_3}', f'SD_{ma_1}', f'SD_{ma_3}','formatted_date']]\n",
				"split_y = df2[[name_col]]\n",
				"\n",
				"X_train, X_test,y_train, y_test = train_test_split(split_x,split_y ,\n",
				"                                   random_state=104, \n",
				"                                   test_size=0.1, \n",
				"                                   shuffle=True)\n",
				"print(X_train)"
			]
		},
		{
			"cell_type": "markdown",
			"metadata": {
				"id": "O13ir4_bFc6o"
			},
			"source": [
				"## Chuẩn hóa dữ liệu"
			]
		},
		{
			"cell_type": "code",
			"execution_count": 6,
			"metadata": {
				"colab": {
					"base_uri": "https://localhost:8080/"
				},
				"executionInfo": {
					"elapsed": 8,
					"status": "ok",
					"timestamp": 1661101628413,
					"user": {
						"displayName": "Uyên Đặng Vũ Phương",
						"userId": "04847217558347543723"
					},
					"user_tz": -420
				},
				"id": "T0qaWxBGEFLm",
				"outputId": "c2a0f851-d7a7-46be-e215-1e8b697abc13"
			},
			"outputs": [
				{
					"name": "stdout",
					"output_type": "stream",
					"text": [
						"(1350, 9) (1350, 1)\n"
					]
				}
			],
			"source": [
				"cols_x = ['high','low','open','H-L', f'SMA_{ma_1}', f'SMA_{ma_2}', f'SMA_{ma_3}', f'SD_{ma_1}', f'SD_{ma_3}']\n",
				"cols_y = [name_col]\n",
				"x_train = X_train[cols_x].values.reshape(-1, len(cols_x))\n",
				"y_train = y_train[cols_y].values.reshape(-1, len(cols_y))\n",
				"print(x_train.shape, y_train.shape)"
			]
		},
		{
			"cell_type": "code",
			"execution_count": 7,
			"metadata": {
				"colab": {
					"base_uri": "https://localhost:8080/"
				},
				"executionInfo": {
					"elapsed": 3,
					"status": "ok",
					"timestamp": 1661101629477,
					"user": {
						"displayName": "Uyên Đặng Vũ Phương",
						"userId": "04847217558347543723"
					},
					"user_tz": -420
				},
				"id": "jEWEnAHQEd1C",
				"outputId": "f61c6239-3555-4005-e0aa-73b5a311c0fd"
			},
			"outputs": [
				{
					"name": "stdout",
					"output_type": "stream",
					"text": [
						"(150, 9) (150, 1)\n"
					]
				}
			],
			"source": [
				"\n",
				"x_test = X_test[cols_x].values.reshape(-1, len(cols_x))\n",
				"y_test = y_test[cols_y].values.reshape(-1, len(cols_y))\n",
				"print(x_test.shape, y_test.shape)"
			]
		},
		{
			"cell_type": "markdown",
			"metadata": {
				"id": "kzCLgJ-nUWin"
			},
			"source": [
				"# 2. Quá trình dự đoán trên mô hình \n"
			]
		},
		{
			"cell_type": "code",
			"execution_count": 8,
			"metadata": {
				"executionInfo": {
					"elapsed": 338,
					"status": "ok",
					"timestamp": 1661101635732,
					"user": {
						"displayName": "Uyên Đặng Vũ Phương",
						"userId": "04847217558347543723"
					},
					"user_tz": -420
				},
				"id": "2GWa47Mw-OkG"
			},
			"outputs": [],
			"source": [
				"from sklearn.linear_model import LinearRegression\n",
				"from sklearn.linear_model import Lasso\n",
				"from sklearn.linear_model import Ridge\n",
				"from sklearn.linear_model import ElasticNet\n",
				"from sklearn.ensemble import GradientBoostingRegressor"
			]
		},
		{
			"cell_type": "code",
			"execution_count": 9,
			"metadata": {
				"executionInfo": {
					"elapsed": 1,
					"status": "ok",
					"timestamp": 1661101636613,
					"user": {
						"displayName": "Uyên Đặng Vũ Phương",
						"userId": "04847217558347543723"
					},
					"user_tz": -420
				},
				"id": "PsJNdmDYWlbZ"
			},
			"outputs": [],
			"source": [
				"_gdm = ('gradient', GradientBoostingRegressor(learning_rate= 0.07, max_depth= 8, n_estimators= 1000, subsample= 0.3));\n",
				"_elm = ('elasticnet', ElasticNet(alpha= 0.01, l1_ratio= 0.8, positive= True, random_state= 100, selection= 'random', tol= 0.2, warm_start= True));\n",
				"_lsm = ('lasso', Lasso(alpha= 3.17, copy_X= True, fit_intercept= False, max_iter= 1, normalize= True, positive= False, precompute= False, random_state= None, selection= 'random', tol= 0.3, warm_start= False));\n",
				"_ridge = ('ridge',Ridge(alpha= 0.0006, copy_X= True, fit_intercept= False, max_iter= 1, normalize= False, positive= True, random_state= None, solver= 'auto', tol= 0.001));\n",
				"_lr = ('linear',LinearRegression())"
			]
		},
		{
			"cell_type": "code",
			"execution_count": 10,
			"metadata": {
				"executionInfo": {
					"elapsed": 2,
					"status": "ok",
					"timestamp": 1661101638838,
					"user": {
						"displayName": "Uyên Đặng Vũ Phương",
						"userId": "04847217558347543723"
					},
					"user_tz": -420
				},
				"id": "mH_ClnV3Iwqm"
			},
			"outputs": [],
			"source": [
				"from itertools import permutations \n",
				"perm = permutations([_lr, _gdm, _lsm, _ridge]) \n",
				"_estimator_elm = []\n",
				"for i in list(perm): \n",
				"    _estimator_elm.append(i)"
			]
		},
		{
			"cell_type": "code",
			"execution_count": 11,
			"metadata": {
				"colab": {
					"base_uri": "https://localhost:8080/"
				},
				"executionInfo": {
					"elapsed": 697939,
					"status": "ok",
					"timestamp": 1661103127577,
					"user": {
						"displayName": "Uyên Đặng Vũ Phương",
						"userId": "04847217558347543723"
					},
					"user_tz": -420
				},
				"id": "4R576sMhKgn4",
				"outputId": "0d45992b-71c8-4da1-8a7f-b71d64ff5ab4"
			},
			"outputs": [
				{
					"name": "stdout",
					"output_type": "stream",
					"text": [
						"{'estimators': (('gradient', GradientBoostingRegressor(learning_rate=0.07, max_depth=8, n_estimators=1000,\n",
						"                          subsample=0.3)), ('lasso', Lasso(alpha=3.17, fit_intercept=False, max_iter=1, normalize=True,\n",
						"      selection='random', tol=0.3)), ('linear', LinearRegression()), ('ridge', Ridge(alpha=0.0006, fit_intercept=False, max_iter=1, normalize=False,\n",
						"      positive=True))), 'final_estimator': ElasticNet(alpha=0.01, l1_ratio=0.8, positive=True, random_state=100,\n",
						"           selection='random', tol=0.2, warm_start=True)}\n"
					]
				}
			],
			"source": [
				"parameters = {'estimators':_estimator_elm,  \n",
				"              'final_estimator':_elm}\n",
				"elm_grid = GridSearchCV(StackingRegressor(estimators= None, final_estimator = None),parameters, scoring='r2', cv=None).fit(x_train, y_train.reshape(-1, 1))\n",
				"print(elm_grid.best_params_)\n",
				"elm_reg = StackingRegressor(estimators= elm_grid.best_params_[\"estimators\"], final_estimator = elm_grid.best_params_[\"final_estimator\"])\n",
				"elm_reg.fit(x_train, y_train.reshape(-1, 1))\n",
				"elm_pred = elm_reg.predict(x_test)"
			]
		},
		{
			"cell_type": "code",
			"execution_count": 12,
			"metadata": {
				"colab": {
					"base_uri": "https://localhost:8080/",
					"height": 555
				},
				"executionInfo": {
					"elapsed": 1422,
					"status": "ok",
					"timestamp": 1661104831763,
					"user": {
						"displayName": "Uyên Đặng Vũ Phương",
						"userId": "04847217558347543723"
					},
					"user_tz": -420
				},
				"id": "QNq96SzcHHVg",
				"outputId": "b8a0b1a6-75cd-4b47-9b19-0911e84dc873"
			},
			"outputs": [
				{
					"data": {
						"text/html": [
							"<div>\n",
							"<style scoped>\n",
							"    .dataframe tbody tr th:only-of-type {\n",
							"        vertical-align: middle;\n",
							"    }\n",
							"\n",
							"    .dataframe tbody tr th {\n",
							"        vertical-align: top;\n",
							"    }\n",
							"\n",
							"    .dataframe thead th {\n",
							"        text-align: right;\n",
							"    }\n",
							"</style>\n",
							"<table border=\"1\" class=\"dataframe\">\n",
							"  <thead>\n",
							"    <tr style=\"text-align: right;\">\n",
							"      <th></th>\n",
							"      <th>high</th>\n",
							"      <th>low</th>\n",
							"      <th>open</th>\n",
							"      <th>H-L</th>\n",
							"      <th>SMA_7</th>\n",
							"      <th>SMA_14</th>\n",
							"      <th>SMA_21</th>\n",
							"      <th>SD_7</th>\n",
							"      <th>SD_21</th>\n",
							"      <th>formatted_date</th>\n",
							"      <th>predict</th>\n",
							"    </tr>\n",
							"  </thead>\n",
							"  <tbody>\n",
							"    <tr>\n",
							"      <th>801</th>\n",
							"      <td>0.463694</td>\n",
							"      <td>0.433015</td>\n",
							"      <td>0.441109</td>\n",
							"      <td>0.030679</td>\n",
							"      <td>0.464116</td>\n",
							"      <td>0.455761</td>\n",
							"      <td>0.467919</td>\n",
							"      <td>0.014321</td>\n",
							"      <td>0.038535</td>\n",
							"      <td>2021-03-12</td>\n",
							"      <td>0.445197</td>\n",
							"    </tr>\n",
							"    <tr>\n",
							"      <th>1159</th>\n",
							"      <td>0.766085</td>\n",
							"      <td>0.707479</td>\n",
							"      <td>0.754923</td>\n",
							"      <td>0.058606</td>\n",
							"      <td>0.753879</td>\n",
							"      <td>0.742617</td>\n",
							"      <td>0.765528</td>\n",
							"      <td>0.027945</td>\n",
							"      <td>0.045225</td>\n",
							"      <td>2022-03-05</td>\n",
							"      <td>0.733258</td>\n",
							"    </tr>\n",
							"    <tr>\n",
							"      <th>1506</th>\n",
							"      <td>0.401862</td>\n",
							"      <td>0.377248</td>\n",
							"      <td>0.401348</td>\n",
							"      <td>0.024614</td>\n",
							"      <td>0.382834</td>\n",
							"      <td>0.393343</td>\n",
							"      <td>0.398403</td>\n",
							"      <td>0.009365</td>\n",
							"      <td>0.013717</td>\n",
							"      <td>2023-02-15</td>\n",
							"      <td>0.408251</td>\n",
							"    </tr>\n",
							"    <tr>\n",
							"      <th>902</th>\n",
							"      <td>0.779790</td>\n",
							"      <td>0.605175</td>\n",
							"      <td>0.607232</td>\n",
							"      <td>0.174615</td>\n",
							"      <td>0.787033</td>\n",
							"      <td>0.830816</td>\n",
							"      <td>0.876765</td>\n",
							"      <td>0.089076</td>\n",
							"      <td>0.098236</td>\n",
							"      <td>2021-06-21</td>\n",
							"      <td>0.599918</td>\n",
							"    </tr>\n",
							"    <tr>\n",
							"      <th>224</th>\n",
							"      <td>0.301178</td>\n",
							"      <td>0.293562</td>\n",
							"      <td>0.296719</td>\n",
							"      <td>0.007616</td>\n",
							"      <td>0.302081</td>\n",
							"      <td>0.309805</td>\n",
							"      <td>0.311595</td>\n",
							"      <td>0.005706</td>\n",
							"      <td>0.008413</td>\n",
							"      <td>2019-08-13</td>\n",
							"      <td>0.312303</td>\n",
							"    </tr>\n",
							"  </tbody>\n",
							"</table>\n",
							"</div>"
						],
						"text/plain": [
							"          high       low      open       H-L     SMA_7    SMA_14    SMA_21  \\\n",
							"801   0.463694  0.433015  0.441109  0.030679  0.464116  0.455761  0.467919   \n",
							"1159  0.766085  0.707479  0.754923  0.058606  0.753879  0.742617  0.765528   \n",
							"1506  0.401862  0.377248  0.401348  0.024614  0.382834  0.393343  0.398403   \n",
							"902   0.779790  0.605175  0.607232  0.174615  0.787033  0.830816  0.876765   \n",
							"224   0.301178  0.293562  0.296719  0.007616  0.302081  0.309805  0.311595   \n",
							"\n",
							"          SD_7     SD_21 formatted_date   predict  \n",
							"801   0.014321  0.038535     2021-03-12  0.445197  \n",
							"1159  0.027945  0.045225     2022-03-05  0.733258  \n",
							"1506  0.009365  0.013717     2023-02-15  0.408251  \n",
							"902   0.089076  0.098236     2021-06-21  0.599918  \n",
							"224   0.005706  0.008413     2019-08-13  0.312303  "
						]
					},
					"execution_count": 12,
					"metadata": {},
					"output_type": "execute_result"
				},
				{
					"data": {
						"image/png": "[encoded data removed]",
						"text/plain": [
							"<Figure size 1152x648 with 1 Axes>"
						]
					},
					"metadata": {
						"needs_background": "light"
					},
					"output_type": "display_data"
				}
			],
			"source": [
				"\n",
				"plt.figure(figsize=(16, 9))\n",
				"plt.grid(True)\n",
				"plt.ylabel('Closing Prices')\n",
				"plt.plot(y_test, 'blue', label='Actual data')\n",
				"plt.plot(elm_pred, 'cyan', label='Staking ElasticNet predicted data')\n",
				"plt.legend()\n",
				"X_test['predict']=elm_pred\n",
				"X_test.tail()"
			]
		},
		{
			"cell_type": "code",
			"execution_count": 13,
			"metadata": {
				"executionInfo": {
					"elapsed": 296,
					"status": "ok",
					"timestamp": 1661104892576,
					"user": {
						"displayName": "Uyên Đặng Vũ Phương",
						"userId": "04847217558347543723"
					},
					"user_tz": -420
				},
				"id": "iDmF99FmTs-d"
			},
			"outputs": [],
			"source": [
				"import pickle\n"
			]
		},
		{
			"cell_type": "code",
			"execution_count": 14,
			"metadata": {},
			"outputs": [
				{
					"name": "stdout",
					"output_type": "stream",
					"text": [
						"MAE: 0.02\n",
						"MAPE: 4.71%\n",
						"MSE: 0.00\n",
						"RMSE: 0.02\n"
					]
				}
			],
			"source": [
				"mae = mean_absolute_error(y_test, elm_pred)\n",
				"mape = mean_absolute_percentage_error(y_test, elm_pred)\n",
				"mse = mean_squared_error(y_test, elm_pred)\n",
				"rmse = np.sqrt(mse)\n",
				"# r2 = r2_score(y_test, elm_pred)\n",
				"\n",
				"print(f\"MAE: {mae:.2f}\")\n",
				"print(f\"MAPE: {mape * 100:.2f}%\")\n",
				"print(f\"MSE: {mse:.2f}\")\n",
				"print(f\"RMSE: {rmse:.2f}\")\n",
				"# print(f\"R2: {r2:.2f}\")"
			]
		}
	],
	"metadata": {
		"colab": {
			"collapsed_sections": [],
			"name": "stacking_combine.ipynb",
			"provenance": []
		},
		"kernelspec": {
			"display_name": "Python 3.9.12 ('base')",
			"language": "python",
			"name": "python3"
		},
		"language_info": {
			"codemirror_mode": {
				"name": "ipython",
				"version": 3
			},
			"file_extension": ".py",
			"mimetype": "text/x-python",
			"name": "python",
			"nbconvert_exporter": "python",
			"pygments_lexer": "ipython3",
			"version": "3.9.12"
		},
		"vscode": {
			"interpreter": {
				"hash": "89c39a72187b3fa6cc17a74763d72fa26a4fa6bc2bb746ac1d886355e3c795f3"
			}
		}
	},
	"nbformat": 4,
	"nbformat_minor": 0
}
