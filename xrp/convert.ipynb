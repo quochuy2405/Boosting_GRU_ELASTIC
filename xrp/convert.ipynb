{
	"cells": [
		{
			"cell_type": "code",
			"execution_count": 1,
			"metadata": {},
			"outputs": [],
			"source": [
				"\n",
				"import pandas as pd\n",
				"df = pd.read_csv('xrp_raw.csv')\n",
				"for i in range(len(df)-1):\n",
				"  df.at[i,'open'] =df.iloc[i+1]['open']"
			]
		},
		{
			"cell_type": "code",
			"execution_count": 2,
			"metadata": {},
			"outputs": [],
			"source": [
				"df.at[len(df)-1,'open']=0\n",
				"df.drop(df.tail(1).index,inplace=True)\n",
				"df.to_csv('xrp_open.csv')"
			]
		},
		{
			"cell_type": "code",
			"execution_count": 3,
			"metadata": {},
			"outputs": [],
			"source": [
				"df2 = pd.read_csv('xrp_raw.csv')\n",
				"for i in range(len(df2)-1):\n",
				"  df2.at[i,'open'] =df2.iloc[i+1]['open']"
			]
		},
		{
			"cell_type": "code",
			"execution_count": null,
			"metadata": {},
			"outputs": [],
			"source": []
		},
		{
			"cell_type": "code",
			"execution_count": 4,
			"metadata": {},
			"outputs": [],
			"source": [
				"df2.at[len(df2)-1,'close']=0\n",
				"df2.drop(df2.tail(1).index,inplace=True)\n",
				"df2.to_csv('xrp.csv')"
			]
		},
		{
			"cell_type": "code",
			"execution_count": null,
			"metadata": {},
			"outputs": [],
			"source": []
		}
	],
	"metadata": {
		"kernelspec": {
			"display_name": "tsa_course",
			"language": "python",
			"name": "python3"
		},
		"language_info": {
			"codemirror_mode": {
				"name": "ipython",
				"version": 3
			},
			"file_extension": ".py",
			"mimetype": "text/x-python",
			"name": "python",
			"nbconvert_exporter": "python",
			"pygments_lexer": "ipython3",
			"version": "3.9.12"
		},
		"orig_nbformat": 4
	},
	"nbformat": 4,
	"nbformat_minor": 2
}
